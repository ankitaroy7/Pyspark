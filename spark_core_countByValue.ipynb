{
 "cells": [
  {
   "cell_type": "code",
   "execution_count": 1,
   "id": "0703f14e",
   "metadata": {},
   "outputs": [],
   "source": [
    "from pyspark.sql import SparkSession\n",
    "import getpass\n",
    "username = getpass.getuser()\n",
    "spark = SparkSession. \\\n",
    "builder. \\\n",
    "config('spark.ui.port', '0'). \\\n",
    "config(\"spark.sql.warehouse.dir\", f\"/user/{username}/warehouse\"). \\\n",
    "enableHiveSupport(). \\\n",
    "master('yarn'). \\\n",
    "getOrCreate()"
   ]
  },
  {
   "cell_type": "code",
   "execution_count": 2,
   "id": "d71ffcb9",
   "metadata": {},
   "outputs": [
    {
     "data": {
      "text/html": [
       "\n",
       "            <div>\n",
       "                <p><b>SparkSession - hive</b></p>\n",
       "                \n",
       "        <div>\n",
       "            <p><b>SparkContext</b></p>\n",
       "\n",
       "            <p><a href=\"http://g02.itversity.com:34759\">Spark UI</a></p>\n",
       "\n",
       "            <dl>\n",
       "              <dt>Version</dt>\n",
       "                <dd><code>v3.1.2</code></dd>\n",
       "              <dt>Master</dt>\n",
       "                <dd><code>yarn</code></dd>\n",
       "              <dt>AppName</dt>\n",
       "                <dd><code>pyspark-shell</code></dd>\n",
       "            </dl>\n",
       "        </div>\n",
       "        \n",
       "            </div>\n",
       "        "
      ],
      "text/plain": [
       "<pyspark.sql.session.SparkSession at 0x7f41add93cc0>"
      ]
     },
     "execution_count": 2,
     "metadata": {},
     "output_type": "execute_result"
    }
   ],
   "source": [
    "spark"
   ]
  },
  {
   "cell_type": "code",
   "execution_count": 3,
   "id": "8134147b",
   "metadata": {},
   "outputs": [],
   "source": [
    "words = (\"big\", \"Data\", \"Is\", \"SUPER\", \"Interesting\", \"BIG\", \"data\", \"IS\", \"A\", \"Trending\", \"technology\") "
   ]
  },
  {
   "cell_type": "code",
   "execution_count": 4,
   "id": "fc5b6dcb",
   "metadata": {},
   "outputs": [],
   "source": [
    "words_rdd = spark.sparkContext.parallelize(words)"
   ]
  },
  {
   "cell_type": "code",
   "execution_count": 5,
   "id": "070c657d",
   "metadata": {},
   "outputs": [
    {
     "data": {
      "text/plain": [
       "2"
      ]
     },
     "execution_count": 5,
     "metadata": {},
     "output_type": "execute_result"
    }
   ],
   "source": [
    "words_rdd.getNumPartitions()"
   ]
  },
  {
   "cell_type": "code",
   "execution_count": 6,
   "id": "60a0207b",
   "metadata": {},
   "outputs": [
    {
     "data": {
      "text/plain": [
       "2"
      ]
     },
     "execution_count": 6,
     "metadata": {},
     "output_type": "execute_result"
    }
   ],
   "source": [
    "# To check default parallelism when we parallelize the data\n",
    "\n",
    "spark.sparkContext.defaultParallelism"
   ]
  },
  {
   "cell_type": "code",
   "execution_count": 7,
   "id": "ce131e1f",
   "metadata": {},
   "outputs": [],
   "source": [
    "orders_rdd = spark.sparkContext.textFile(\"/public/trendytech/retail_db/orders/part-00000\")"
   ]
  },
  {
   "cell_type": "code",
   "execution_count": 8,
   "id": "bb029ec6",
   "metadata": {},
   "outputs": [
    {
     "data": {
      "text/plain": [
       "2"
      ]
     },
     "execution_count": 8,
     "metadata": {},
     "output_type": "execute_result"
    }
   ],
   "source": [
    "orders_rdd.getNumPartitions()"
   ]
  },
  {
   "cell_type": "code",
   "execution_count": 10,
   "id": "fa698d41",
   "metadata": {},
   "outputs": [
    {
     "data": {
      "text/plain": [
       "2"
      ]
     },
     "execution_count": 10,
     "metadata": {},
     "output_type": "execute_result"
    }
   ],
   "source": [
    "spark.sparkContext.defaultMinPartitions"
   ]
  },
  {
   "cell_type": "code",
   "execution_count": 3,
   "id": "3abf8815",
   "metadata": {},
   "outputs": [],
   "source": [
    "base_rdd = spark.sparkContext.textFile(\"/public/trendytech/bigLog.txt\")"
   ]
  },
  {
   "cell_type": "code",
   "execution_count": 4,
   "id": "3eaf8ff4",
   "metadata": {},
   "outputs": [
    {
     "data": {
      "text/plain": [
       "['ERROR: Thu Jun 04 10:37:51 BST 2015',\n",
       " 'WARN: Sun Nov 06 10:37:51 GMT 2016',\n",
       " 'WARN: Mon Aug 29 10:37:51 BST 2016',\n",
       " 'ERROR: Thu Dec 10 10:37:51 GMT 2015',\n",
       " 'ERROR: Fri Dec 26 10:37:51 GMT 2014',\n",
       " 'ERROR: Thu Feb 02 10:37:51 GMT 2017',\n",
       " 'WARN: Fri Oct 17 10:37:51 BST 2014',\n",
       " 'ERROR: Wed Jul 01 10:37:51 BST 2015',\n",
       " 'WARN: Thu Jul 27 10:37:51 BST 2017',\n",
       " 'WARN: Thu Oct 19 10:37:51 BST 2017']"
      ]
     },
     "execution_count": 4,
     "metadata": {},
     "output_type": "execute_result"
    }
   ],
   "source": [
    "base_rdd.take(10)"
   ]
  },
  {
   "cell_type": "code",
   "execution_count": 5,
   "id": "0319ca26",
   "metadata": {},
   "outputs": [
    {
     "data": {
      "text/plain": [
       "3"
      ]
     },
     "execution_count": 5,
     "metadata": {},
     "output_type": "execute_result"
    }
   ],
   "source": [
    "base_rdd.getNumPartitions()"
   ]
  },
  {
   "cell_type": "code",
   "execution_count": null,
   "id": "8b56dd94",
   "metadata": {},
   "outputs": [],
   "source": []
  },
  {
   "cell_type": "code",
   "execution_count": null,
   "id": "1cd2c8b5",
   "metadata": {},
   "outputs": [],
   "source": []
  },
  {
   "cell_type": "code",
   "execution_count": null,
   "id": "2527223c",
   "metadata": {},
   "outputs": [],
   "source": [
    "# Count the no. of orders under each order status"
   ]
  },
  {
   "cell_type": "code",
   "execution_count": null,
   "id": "a814aeb1",
   "metadata": {},
   "outputs": [],
   "source": [
    "# Mathod 1 "
   ]
  },
  {
   "cell_type": "code",
   "execution_count": 3,
   "id": "e4d1697b",
   "metadata": {},
   "outputs": [],
   "source": [
    "orders_rdd = spark.sparkContext.textFile(\"/public/trendytech/retail_db/orders/part-00000\")"
   ]
  },
  {
   "cell_type": "code",
   "execution_count": 5,
   "id": "f5d0429e",
   "metadata": {},
   "outputs": [],
   "source": [
    "mapped_rdd = orders_rdd.map(lambda x : (x.split(\",\")[3],1))"
   ]
  },
  {
   "cell_type": "code",
   "execution_count": 6,
   "id": "007836db",
   "metadata": {},
   "outputs": [
    {
     "data": {
      "text/plain": [
       "[('CLOSED', 1),\n",
       " ('PENDING_PAYMENT', 1),\n",
       " ('COMPLETE', 1),\n",
       " ('CLOSED', 1),\n",
       " ('COMPLETE', 1),\n",
       " ('COMPLETE', 1),\n",
       " ('COMPLETE', 1),\n",
       " ('PROCESSING', 1),\n",
       " ('PENDING_PAYMENT', 1),\n",
       " ('PENDING_PAYMENT', 1),\n",
       " ('PAYMENT_REVIEW', 1),\n",
       " ('CLOSED', 1),\n",
       " ('PENDING_PAYMENT', 1),\n",
       " ('PROCESSING', 1),\n",
       " ('COMPLETE', 1)]"
      ]
     },
     "execution_count": 6,
     "metadata": {},
     "output_type": "execute_result"
    }
   ],
   "source": [
    "mapped_rdd.take(15)"
   ]
  },
  {
   "cell_type": "code",
   "execution_count": 7,
   "id": "40802557",
   "metadata": {},
   "outputs": [],
   "source": [
    "results = mapped_rdd.reduceByKey(lambda x,y : x+y)"
   ]
  },
  {
   "cell_type": "code",
   "execution_count": 8,
   "id": "45a35ed4",
   "metadata": {},
   "outputs": [
    {
     "data": {
      "text/plain": [
       "[('CLOSED', 7556),\n",
       " ('CANCELED', 1428),\n",
       " ('PENDING_PAYMENT', 15030),\n",
       " ('COMPLETE', 22899),\n",
       " ('PROCESSING', 8275),\n",
       " ('PAYMENT_REVIEW', 729),\n",
       " ('PENDING', 7610),\n",
       " ('ON_HOLD', 3798),\n",
       " ('SUSPECTED_FRAUD', 1558)]"
      ]
     },
     "execution_count": 8,
     "metadata": {},
     "output_type": "execute_result"
    }
   ],
   "source": [
    "results.collect()"
   ]
  },
  {
   "cell_type": "code",
   "execution_count": null,
   "id": "308941b4",
   "metadata": {},
   "outputs": [],
   "source": []
  },
  {
   "cell_type": "code",
   "execution_count": null,
   "id": "ac1f30b6",
   "metadata": {},
   "outputs": [],
   "source": [
    "# Method 2:"
   ]
  },
  {
   "cell_type": "code",
   "execution_count": 9,
   "id": "f488152f",
   "metadata": {},
   "outputs": [],
   "source": [
    "orders_rdd = spark.sparkContext.textFile(\"/public/trendytech/retail_db/orders/part-00000\")"
   ]
  },
  {
   "cell_type": "code",
   "execution_count": 10,
   "id": "c1ad46a9",
   "metadata": {},
   "outputs": [],
   "source": [
    "mapped_rdd = orders_rdd.map(lambda x : x.split(\",\")[3])"
   ]
  },
  {
   "cell_type": "code",
   "execution_count": 11,
   "id": "2a5cf6ec",
   "metadata": {},
   "outputs": [
    {
     "data": {
      "text/plain": [
       "['CLOSED',\n",
       " 'PENDING_PAYMENT',\n",
       " 'COMPLETE',\n",
       " 'CLOSED',\n",
       " 'COMPLETE',\n",
       " 'COMPLETE',\n",
       " 'COMPLETE',\n",
       " 'PROCESSING',\n",
       " 'PENDING_PAYMENT',\n",
       " 'PENDING_PAYMENT']"
      ]
     },
     "execution_count": 11,
     "metadata": {},
     "output_type": "execute_result"
    }
   ],
   "source": [
    "mapped_rdd.take(10)"
   ]
  },
  {
   "cell_type": "code",
   "execution_count": 12,
   "id": "3e3f2a47",
   "metadata": {},
   "outputs": [
    {
     "data": {
      "text/plain": [
       "defaultdict(int,\n",
       "            {'CLOSED': 7556,\n",
       "             'PENDING_PAYMENT': 15030,\n",
       "             'COMPLETE': 22899,\n",
       "             'PROCESSING': 8275,\n",
       "             'PAYMENT_REVIEW': 729,\n",
       "             'PENDING': 7610,\n",
       "             'ON_HOLD': 3798,\n",
       "             'CANCELED': 1428,\n",
       "             'SUSPECTED_FRAUD': 1558})"
      ]
     },
     "execution_count": 12,
     "metadata": {},
     "output_type": "execute_result"
    }
   ],
   "source": [
    "mapped_rdd.countByValue()"
   ]
  },
  {
   "cell_type": "code",
   "execution_count": null,
   "id": "835847aa",
   "metadata": {},
   "outputs": [],
   "source": []
  },
  {
   "cell_type": "code",
   "execution_count": null,
   "id": "20fde89c",
   "metadata": {},
   "outputs": [],
   "source": [
    "# map + reduceByKey:\n",
    "orders_rdd = spark.sparkContext.textFile(\"/public/trendytech/retail_db/orders/part-00000\")\n",
    "mapped_rdd = orders_rdd.map(lambda x : (x.split(\",\")[3],1))\n",
    "results = mapped_rdd.reduceByKey(lambda x,y : x+y)\n",
    "results.collect()"
   ]
  },
  {
   "cell_type": "code",
   "execution_count": null,
   "id": "48c26969",
   "metadata": {},
   "outputs": [],
   "source": []
  },
  {
   "cell_type": "code",
   "execution_count": null,
   "id": "16b8a1d5",
   "metadata": {},
   "outputs": [],
   "source": [
    "# countByValue():\n",
    "orders_rdd = spark.sparkContext.textFile(\"/public/trendytech/retail_db/orders/part-00000\")\n",
    "mapped_rdd = orders_rdd.map(lambda x : x.split(\",\")[3])\n",
    "mapped_rdd.countByValue()"
   ]
  },
  {
   "cell_type": "code",
   "execution_count": null,
   "id": "3aee67d5",
   "metadata": {},
   "outputs": [],
   "source": []
  },
  {
   "cell_type": "code",
   "execution_count": null,
   "id": "85104301",
   "metadata": {},
   "outputs": [],
   "source": []
  }
 ],
 "metadata": {
  "kernelspec": {
   "display_name": "Pyspark 3",
   "language": "python",
   "name": "pyspark3"
  },
  "language_info": {
   "codemirror_mode": {
    "name": "ipython",
    "version": 3
   },
   "file_extension": ".py",
   "mimetype": "text/x-python",
   "name": "python",
   "nbconvert_exporter": "python",
   "pygments_lexer": "ipython3",
   "version": "3.6.12"
  }
 },
 "nbformat": 4,
 "nbformat_minor": 5
}
