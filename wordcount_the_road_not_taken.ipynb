{
 "cells": [
  {
   "cell_type": "code",
   "execution_count": 1,
   "id": "50fa1336",
   "metadata": {},
   "outputs": [],
   "source": [
    "from pyspark.sql import SparkSession\n",
    "import getpass\n",
    "username = getpass.getuser()\n",
    "spark = SparkSession. \\\n",
    "builder. \\\n",
    "config('spark.ui.port', '0'). \\\n",
    "config(\"spark.sql.warehouse.dir\", f\"/user/{username}/warehouse\"). \\\n",
    "enableHiveSupport(). \\\n",
    "master('yarn'). \\\n",
    "getOrCreate()"
   ]
  },
  {
   "cell_type": "code",
   "execution_count": 2,
   "id": "3230e382",
   "metadata": {},
   "outputs": [
    {
     "data": {
      "text/html": [
       "\n",
       "            <div>\n",
       "                <p><b>SparkSession - hive</b></p>\n",
       "                \n",
       "        <div>\n",
       "            <p><b>SparkContext</b></p>\n",
       "\n",
       "            <p><a href=\"http://g02.itversity.com:41335\">Spark UI</a></p>\n",
       "\n",
       "            <dl>\n",
       "              <dt>Version</dt>\n",
       "                <dd><code>v3.1.2</code></dd>\n",
       "              <dt>Master</dt>\n",
       "                <dd><code>yarn</code></dd>\n",
       "              <dt>AppName</dt>\n",
       "                <dd><code>pyspark-shell</code></dd>\n",
       "            </dl>\n",
       "        </div>\n",
       "        \n",
       "            </div>\n",
       "        "
      ],
      "text/plain": [
       "<pyspark.sql.session.SparkSession at 0x7fbce3db8da0>"
      ]
     },
     "execution_count": 2,
     "metadata": {},
     "output_type": "execute_result"
    }
   ],
   "source": [
    "spark"
   ]
  },
  {
   "cell_type": "code",
   "execution_count": 6,
   "id": "ab70f276",
   "metadata": {},
   "outputs": [],
   "source": [
    "rdd1 = spark.sparkContext.textFile(\"/user/itv012704/data/wordcount_input.txt\")"
   ]
  },
  {
   "cell_type": "code",
   "execution_count": 7,
   "id": "1f3ee22a",
   "metadata": {},
   "outputs": [
    {
     "data": {
      "text/plain": [
       "['Two roads diverged in a yellow wood',\n",
       " 'And sorry I could not travel both',\n",
       " 'And be one traveler long I stood',\n",
       " 'And looked down one as far as I could',\n",
       " 'To where it bent in the undergrowth',\n",
       " '',\n",
       " 'Then took the other as just as fair',\n",
       " 'And having perhaps the better claim',\n",
       " 'Because it was grassy and wanted wear',\n",
       " 'Though as for that the passing there',\n",
       " 'Had worn them really about the same',\n",
       " '',\n",
       " 'And both that morning equally lay',\n",
       " 'In leaves no step had trodden black',\n",
       " 'Oh I kept the first for another day',\n",
       " 'Yet knowing how way leads on to way',\n",
       " 'I doubted if I should ever come back',\n",
       " '',\n",
       " 'I shall be telling this with a sigh',\n",
       " 'Somewhere ages and ages hence',\n",
       " 'Two roads diverged in a wood and',\n",
       " 'I took the one less traveled by',\n",
       " 'And that has made all the difference']"
      ]
     },
     "execution_count": 7,
     "metadata": {},
     "output_type": "execute_result"
    }
   ],
   "source": [
    "rdd1.collect()"
   ]
  },
  {
   "cell_type": "code",
   "execution_count": 8,
   "id": "2a1eac82",
   "metadata": {},
   "outputs": [],
   "source": [
    "rdd2 = rdd1.flatMap(lambda x : x.split(\" \"))"
   ]
  },
  {
   "cell_type": "code",
   "execution_count": 9,
   "id": "1996b975",
   "metadata": {},
   "outputs": [
    {
     "data": {
      "text/plain": [
       "['Two',\n",
       " 'roads',\n",
       " 'diverged',\n",
       " 'in',\n",
       " 'a',\n",
       " 'yellow',\n",
       " 'wood',\n",
       " 'And',\n",
       " 'sorry',\n",
       " 'I',\n",
       " 'could',\n",
       " 'not',\n",
       " 'travel',\n",
       " 'both',\n",
       " 'And',\n",
       " 'be',\n",
       " 'one',\n",
       " 'traveler',\n",
       " 'long',\n",
       " 'I']"
      ]
     },
     "execution_count": 9,
     "metadata": {},
     "output_type": "execute_result"
    }
   ],
   "source": [
    "rdd2.take(20)"
   ]
  },
  {
   "cell_type": "code",
   "execution_count": 10,
   "id": "89538d50",
   "metadata": {},
   "outputs": [],
   "source": [
    "rdd3 = rdd2.map(lambda x : (x,1))"
   ]
  },
  {
   "cell_type": "code",
   "execution_count": 12,
   "id": "efe45924",
   "metadata": {},
   "outputs": [],
   "source": [
    "rdd4 = rdd3.reduceByKey(lambda x, y : x+y)"
   ]
  },
  {
   "cell_type": "code",
   "execution_count": 16,
   "id": "57b2606d",
   "metadata": {},
   "outputs": [],
   "source": [
    "rdd5 = rdd4.sortBy(lambda x : x[1], False)"
   ]
  },
  {
   "cell_type": "code",
   "execution_count": 18,
   "id": "5bbbb189",
   "metadata": {},
   "outputs": [
    {
     "data": {
      "text/plain": [
       "[('I', 8),\n",
       " ('the', 8),\n",
       " ('And', 6),\n",
       " ('as', 5),\n",
       " ('in', 3),\n",
       " ('', 3),\n",
       " ('a', 3),\n",
       " ('one', 3),\n",
       " ('and', 3),\n",
       " ('that', 3),\n",
       " ('Two', 2),\n",
       " ('roads', 2),\n",
       " ('wood', 2),\n",
       " ('both', 2),\n",
       " ('took', 2),\n",
       " ('way', 2),\n",
       " ('diverged', 2),\n",
       " ('could', 2),\n",
       " ('be', 2),\n",
       " ('it', 2),\n",
       " ('for', 2),\n",
       " ('ages', 2),\n",
       " ('yellow', 1),\n",
       " ('traveler', 1),\n",
       " ('long', 1),\n",
       " ('stood', 1),\n",
       " ('looked', 1),\n",
       " ('down', 1),\n",
       " ('far', 1),\n",
       " ('where', 1),\n",
       " ('Then', 1),\n",
       " ('other', 1),\n",
       " ('just', 1),\n",
       " ('perhaps', 1),\n",
       " ('claim', 1),\n",
       " ('Because', 1),\n",
       " ('was', 1),\n",
       " ('grassy', 1),\n",
       " ('wear', 1),\n",
       " ('Though', 1),\n",
       " ('there', 1),\n",
       " ('Had', 1),\n",
       " ('them', 1),\n",
       " ('really', 1),\n",
       " ('equally', 1),\n",
       " ('leaves', 1),\n",
       " ('no', 1),\n",
       " ('step', 1),\n",
       " ('trodden', 1),\n",
       " ('Oh', 1),\n",
       " ('kept', 1),\n",
       " ('doubted', 1),\n",
       " ('ever', 1),\n",
       " ('this', 1),\n",
       " ('sorry', 1),\n",
       " ('not', 1),\n",
       " ('travel', 1),\n",
       " ('To', 1),\n",
       " ('bent', 1),\n",
       " ('undergrowth', 1),\n",
       " ('fair', 1),\n",
       " ('having', 1),\n",
       " ('better', 1),\n",
       " ('wanted', 1),\n",
       " ('passing', 1),\n",
       " ('worn', 1),\n",
       " ('about', 1),\n",
       " ('same', 1),\n",
       " ('morning', 1),\n",
       " ('lay', 1),\n",
       " ('In', 1),\n",
       " ('had', 1),\n",
       " ('black', 1),\n",
       " ('first', 1),\n",
       " ('another', 1),\n",
       " ('day', 1),\n",
       " ('Yet', 1),\n",
       " ('knowing', 1),\n",
       " ('how', 1),\n",
       " ('leads', 1),\n",
       " ('on', 1),\n",
       " ('to', 1),\n",
       " ('if', 1),\n",
       " ('should', 1),\n",
       " ('come', 1),\n",
       " ('back', 1),\n",
       " ('shall', 1),\n",
       " ('telling', 1),\n",
       " ('with', 1),\n",
       " ('sigh', 1),\n",
       " ('Somewhere', 1),\n",
       " ('hence', 1),\n",
       " ('less', 1),\n",
       " ('traveled', 1),\n",
       " ('by', 1),\n",
       " ('has', 1),\n",
       " ('made', 1),\n",
       " ('all', 1),\n",
       " ('difference', 1)]"
      ]
     },
     "execution_count": 18,
     "metadata": {},
     "output_type": "execute_result"
    }
   ],
   "source": [
    "rdd5.collect()"
   ]
  },
  {
   "cell_type": "code",
   "execution_count": 21,
   "id": "b0a17f58",
   "metadata": {},
   "outputs": [],
   "source": [
    "rdd5.saveAsTextFile(\"/user/itv012704/data/newoutput1\")"
   ]
  },
  {
   "cell_type": "code",
   "execution_count": null,
   "id": "7f3511f7",
   "metadata": {},
   "outputs": [],
   "source": []
  }
 ],
 "metadata": {
  "kernelspec": {
   "display_name": "Pyspark 3",
   "language": "python",
   "name": "pyspark3"
  },
  "language_info": {
   "codemirror_mode": {
    "name": "ipython",
    "version": 3
   },
   "file_extension": ".py",
   "mimetype": "text/x-python",
   "name": "python",
   "nbconvert_exporter": "python",
   "pygments_lexer": "ipython3",
   "version": "3.6.12"
  }
 },
 "nbformat": 4,
 "nbformat_minor": 5
}
